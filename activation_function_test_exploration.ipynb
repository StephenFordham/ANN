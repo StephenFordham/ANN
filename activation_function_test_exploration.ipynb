{
 "cells": [
  {
   "cell_type": "code",
   "execution_count": 136,
   "metadata": {},
   "outputs": [],
   "source": [
    "import pandas as pd\n",
    "import seaborn as sns\n",
    "import matplotlib.pyplot as plt\n",
    "import numpy as np"
   ]
  },
  {
   "cell_type": "code",
   "execution_count": 137,
   "metadata": {},
   "outputs": [],
   "source": [
    "df = pd.read_csv('iris.csv')"
   ]
  },
  {
   "cell_type": "code",
   "execution_count": 138,
   "metadata": {},
   "outputs": [
    {
     "data": {
      "text/html": [
       "<div>\n",
       "<style scoped>\n",
       "    .dataframe tbody tr th:only-of-type {\n",
       "        vertical-align: middle;\n",
       "    }\n",
       "\n",
       "    .dataframe tbody tr th {\n",
       "        vertical-align: top;\n",
       "    }\n",
       "\n",
       "    .dataframe thead th {\n",
       "        text-align: right;\n",
       "    }\n",
       "</style>\n",
       "<table border=\"1\" class=\"dataframe\">\n",
       "  <thead>\n",
       "    <tr style=\"text-align: right;\">\n",
       "      <th></th>\n",
       "      <th>sepal_length</th>\n",
       "      <th>sepal_width</th>\n",
       "      <th>petal_length</th>\n",
       "      <th>petal_width</th>\n",
       "      <th>species</th>\n",
       "    </tr>\n",
       "  </thead>\n",
       "  <tbody>\n",
       "    <tr>\n",
       "      <th>0</th>\n",
       "      <td>5.1</td>\n",
       "      <td>3.5</td>\n",
       "      <td>1.4</td>\n",
       "      <td>0.2</td>\n",
       "      <td>setosa</td>\n",
       "    </tr>\n",
       "    <tr>\n",
       "      <th>1</th>\n",
       "      <td>4.9</td>\n",
       "      <td>3.0</td>\n",
       "      <td>1.4</td>\n",
       "      <td>0.2</td>\n",
       "      <td>setosa</td>\n",
       "    </tr>\n",
       "    <tr>\n",
       "      <th>2</th>\n",
       "      <td>4.7</td>\n",
       "      <td>3.2</td>\n",
       "      <td>1.3</td>\n",
       "      <td>0.2</td>\n",
       "      <td>setosa</td>\n",
       "    </tr>\n",
       "    <tr>\n",
       "      <th>3</th>\n",
       "      <td>4.6</td>\n",
       "      <td>3.1</td>\n",
       "      <td>1.5</td>\n",
       "      <td>0.2</td>\n",
       "      <td>setosa</td>\n",
       "    </tr>\n",
       "    <tr>\n",
       "      <th>4</th>\n",
       "      <td>5.0</td>\n",
       "      <td>3.6</td>\n",
       "      <td>1.4</td>\n",
       "      <td>0.2</td>\n",
       "      <td>setosa</td>\n",
       "    </tr>\n",
       "  </tbody>\n",
       "</table>\n",
       "</div>"
      ],
      "text/plain": [
       "   sepal_length  sepal_width  petal_length  petal_width species\n",
       "0           5.1          3.5           1.4          0.2  setosa\n",
       "1           4.9          3.0           1.4          0.2  setosa\n",
       "2           4.7          3.2           1.3          0.2  setosa\n",
       "3           4.6          3.1           1.5          0.2  setosa\n",
       "4           5.0          3.6           1.4          0.2  setosa"
      ]
     },
     "execution_count": 138,
     "metadata": {},
     "output_type": "execute_result"
    }
   ],
   "source": [
    "df.head()"
   ]
  },
  {
   "cell_type": "code",
   "execution_count": 139,
   "metadata": {},
   "outputs": [],
   "source": [
    "X = df.drop('species', axis=1)\n",
    "y = df['species']"
   ]
  },
  {
   "cell_type": "code",
   "execution_count": 140,
   "metadata": {},
   "outputs": [],
   "source": [
    "X = X.values"
   ]
  },
  {
   "cell_type": "code",
   "execution_count": 141,
   "metadata": {},
   "outputs": [],
   "source": [
    "y = y.values"
   ]
  },
  {
   "cell_type": "code",
   "execution_count": 142,
   "metadata": {},
   "outputs": [
    {
     "data": {
      "text/plain": [
       "numpy.ndarray"
      ]
     },
     "execution_count": 142,
     "metadata": {},
     "output_type": "execute_result"
    }
   ],
   "source": [
    "type(X)"
   ]
  },
  {
   "cell_type": "code",
   "execution_count": 143,
   "metadata": {},
   "outputs": [],
   "source": [
    "from sklearn.preprocessing import LabelBinarizer"
   ]
  },
  {
   "cell_type": "code",
   "execution_count": 144,
   "metadata": {},
   "outputs": [],
   "source": [
    "encoder = LabelBinarizer()\n",
    "y = encoder.fit_transform(y)"
   ]
  },
  {
   "cell_type": "code",
   "execution_count": 145,
   "metadata": {},
   "outputs": [
    {
     "data": {
      "text/plain": [
       "array([[1, 0, 0],\n",
       "       [1, 0, 0],\n",
       "       [1, 0, 0],\n",
       "       [1, 0, 0],\n",
       "       [1, 0, 0],\n",
       "       [1, 0, 0],\n",
       "       [1, 0, 0],\n",
       "       [1, 0, 0],\n",
       "       [1, 0, 0],\n",
       "       [1, 0, 0],\n",
       "       [1, 0, 0],\n",
       "       [1, 0, 0],\n",
       "       [1, 0, 0],\n",
       "       [1, 0, 0],\n",
       "       [1, 0, 0],\n",
       "       [1, 0, 0],\n",
       "       [1, 0, 0],\n",
       "       [1, 0, 0],\n",
       "       [1, 0, 0],\n",
       "       [1, 0, 0],\n",
       "       [1, 0, 0],\n",
       "       [1, 0, 0],\n",
       "       [1, 0, 0],\n",
       "       [1, 0, 0],\n",
       "       [1, 0, 0],\n",
       "       [1, 0, 0],\n",
       "       [1, 0, 0],\n",
       "       [1, 0, 0],\n",
       "       [1, 0, 0],\n",
       "       [1, 0, 0],\n",
       "       [1, 0, 0],\n",
       "       [1, 0, 0],\n",
       "       [1, 0, 0],\n",
       "       [1, 0, 0],\n",
       "       [1, 0, 0],\n",
       "       [1, 0, 0],\n",
       "       [1, 0, 0],\n",
       "       [1, 0, 0],\n",
       "       [1, 0, 0],\n",
       "       [1, 0, 0],\n",
       "       [1, 0, 0],\n",
       "       [1, 0, 0],\n",
       "       [1, 0, 0],\n",
       "       [1, 0, 0],\n",
       "       [1, 0, 0],\n",
       "       [1, 0, 0],\n",
       "       [1, 0, 0],\n",
       "       [1, 0, 0],\n",
       "       [1, 0, 0],\n",
       "       [1, 0, 0],\n",
       "       [0, 1, 0],\n",
       "       [0, 1, 0],\n",
       "       [0, 1, 0],\n",
       "       [0, 1, 0],\n",
       "       [0, 1, 0],\n",
       "       [0, 1, 0],\n",
       "       [0, 1, 0],\n",
       "       [0, 1, 0],\n",
       "       [0, 1, 0],\n",
       "       [0, 1, 0],\n",
       "       [0, 1, 0],\n",
       "       [0, 1, 0],\n",
       "       [0, 1, 0],\n",
       "       [0, 1, 0],\n",
       "       [0, 1, 0],\n",
       "       [0, 1, 0],\n",
       "       [0, 1, 0],\n",
       "       [0, 1, 0],\n",
       "       [0, 1, 0],\n",
       "       [0, 1, 0],\n",
       "       [0, 1, 0],\n",
       "       [0, 1, 0],\n",
       "       [0, 1, 0],\n",
       "       [0, 1, 0],\n",
       "       [0, 1, 0],\n",
       "       [0, 1, 0],\n",
       "       [0, 1, 0],\n",
       "       [0, 1, 0],\n",
       "       [0, 1, 0],\n",
       "       [0, 1, 0],\n",
       "       [0, 1, 0],\n",
       "       [0, 1, 0],\n",
       "       [0, 1, 0],\n",
       "       [0, 1, 0],\n",
       "       [0, 1, 0],\n",
       "       [0, 1, 0],\n",
       "       [0, 1, 0],\n",
       "       [0, 1, 0],\n",
       "       [0, 1, 0],\n",
       "       [0, 1, 0],\n",
       "       [0, 1, 0],\n",
       "       [0, 1, 0],\n",
       "       [0, 1, 0],\n",
       "       [0, 1, 0],\n",
       "       [0, 1, 0],\n",
       "       [0, 1, 0],\n",
       "       [0, 1, 0],\n",
       "       [0, 1, 0],\n",
       "       [0, 1, 0],\n",
       "       [0, 1, 0],\n",
       "       [0, 0, 1],\n",
       "       [0, 0, 1],\n",
       "       [0, 0, 1],\n",
       "       [0, 0, 1],\n",
       "       [0, 0, 1],\n",
       "       [0, 0, 1],\n",
       "       [0, 0, 1],\n",
       "       [0, 0, 1],\n",
       "       [0, 0, 1],\n",
       "       [0, 0, 1],\n",
       "       [0, 0, 1],\n",
       "       [0, 0, 1],\n",
       "       [0, 0, 1],\n",
       "       [0, 0, 1],\n",
       "       [0, 0, 1],\n",
       "       [0, 0, 1],\n",
       "       [0, 0, 1],\n",
       "       [0, 0, 1],\n",
       "       [0, 0, 1],\n",
       "       [0, 0, 1],\n",
       "       [0, 0, 1],\n",
       "       [0, 0, 1],\n",
       "       [0, 0, 1],\n",
       "       [0, 0, 1],\n",
       "       [0, 0, 1],\n",
       "       [0, 0, 1],\n",
       "       [0, 0, 1],\n",
       "       [0, 0, 1],\n",
       "       [0, 0, 1],\n",
       "       [0, 0, 1],\n",
       "       [0, 0, 1],\n",
       "       [0, 0, 1],\n",
       "       [0, 0, 1],\n",
       "       [0, 0, 1],\n",
       "       [0, 0, 1],\n",
       "       [0, 0, 1],\n",
       "       [0, 0, 1],\n",
       "       [0, 0, 1],\n",
       "       [0, 0, 1],\n",
       "       [0, 0, 1],\n",
       "       [0, 0, 1],\n",
       "       [0, 0, 1],\n",
       "       [0, 0, 1],\n",
       "       [0, 0, 1],\n",
       "       [0, 0, 1],\n",
       "       [0, 0, 1],\n",
       "       [0, 0, 1],\n",
       "       [0, 0, 1],\n",
       "       [0, 0, 1],\n",
       "       [0, 0, 1]])"
      ]
     },
     "execution_count": 145,
     "metadata": {},
     "output_type": "execute_result"
    }
   ],
   "source": [
    "y "
   ]
  },
  {
   "cell_type": "code",
   "execution_count": 146,
   "metadata": {},
   "outputs": [],
   "source": [
    "from sklearn.model_selection import train_test_split"
   ]
  },
  {
   "cell_type": "code",
   "execution_count": 147,
   "metadata": {},
   "outputs": [],
   "source": [
    "X_train, X_test, y_train, y_test = train_test_split(X, y, test_size=0.2, random_state=101)"
   ]
  },
  {
   "cell_type": "code",
   "execution_count": 148,
   "metadata": {},
   "outputs": [
    {
     "data": {
      "text/plain": [
       "150"
      ]
     },
     "execution_count": 148,
     "metadata": {},
     "output_type": "execute_result"
    }
   ],
   "source": [
    "len(df)"
   ]
  },
  {
   "cell_type": "code",
   "execution_count": 149,
   "metadata": {},
   "outputs": [
    {
     "data": {
      "text/plain": [
       "array([[6.5, 3. , 5.8, 2.2],\n",
       "       [5.5, 2.5, 4. , 1.3],\n",
       "       [6.5, 3. , 5.5, 1.8],\n",
       "       [5.8, 2.7, 3.9, 1.2],\n",
       "       [6.8, 3. , 5.5, 2.1],\n",
       "       [5.7, 2.8, 4.5, 1.3],\n",
       "       [6.7, 3.1, 4.7, 1.5],\n",
       "       [5.9, 3. , 4.2, 1.5],\n",
       "       [5.6, 2.7, 4.2, 1.3],\n",
       "       [7.7, 3. , 6.1, 2.3],\n",
       "       [5.1, 3.7, 1.5, 0.4],\n",
       "       [4.6, 3.6, 1. , 0.2],\n",
       "       [4.7, 3.2, 1.6, 0.2],\n",
       "       [6.7, 3. , 5. , 1.7],\n",
       "       [5.6, 3. , 4.5, 1.5],\n",
       "       [4.3, 3. , 1.1, 0.1],\n",
       "       [7.1, 3. , 5.9, 2.1],\n",
       "       [5.8, 2.7, 4.1, 1. ],\n",
       "       [4.9, 3.1, 1.5, 0.2],\n",
       "       [5.1, 2.5, 3. , 1.1],\n",
       "       [5.6, 2.5, 3.9, 1.1],\n",
       "       [5.1, 3.3, 1.7, 0.5],\n",
       "       [5.8, 2.7, 5.1, 1.9],\n",
       "       [5. , 3.6, 1.4, 0.2],\n",
       "       [4.9, 2.4, 3.3, 1. ],\n",
       "       [6.7, 2.5, 5.8, 1.8],\n",
       "       [5.8, 2.6, 4. , 1.2],\n",
       "       [4.9, 3.6, 1.4, 0.1],\n",
       "       [5.1, 3.4, 1.5, 0.2],\n",
       "       [6.1, 3. , 4.6, 1.4],\n",
       "       [4.6, 3.4, 1.4, 0.3],\n",
       "       [6.4, 3.2, 4.5, 1.5],\n",
       "       [7.7, 2.6, 6.9, 2.3],\n",
       "       [6.3, 3.4, 5.6, 2.4],\n",
       "       [5.4, 3. , 4.5, 1.5],\n",
       "       [5.8, 4. , 1.2, 0.2],\n",
       "       [6. , 2.9, 4.5, 1.5],\n",
       "       [4.6, 3.1, 1.5, 0.2],\n",
       "       [5.8, 2.7, 5.1, 1.9],\n",
       "       [6.9, 3.2, 5.7, 2.3],\n",
       "       [6. , 3.4, 4.5, 1.6],\n",
       "       [6.2, 3.4, 5.4, 2.3],\n",
       "       [6.6, 2.9, 4.6, 1.3],\n",
       "       [6.3, 3.3, 6. , 2.5],\n",
       "       [4.7, 3.2, 1.3, 0.2],\n",
       "       [4.8, 3. , 1.4, 0.3],\n",
       "       [4.9, 3.1, 1.5, 0.1],\n",
       "       [6.5, 2.8, 4.6, 1.5],\n",
       "       [4.6, 3.2, 1.4, 0.2],\n",
       "       [5.1, 3.8, 1.6, 0.2],\n",
       "       [5. , 3.4, 1.6, 0.4],\n",
       "       [7.4, 2.8, 6.1, 1.9],\n",
       "       [5.2, 3.5, 1.5, 0.2],\n",
       "       [5.4, 3.4, 1.7, 0.2],\n",
       "       [6. , 3. , 4.8, 1.8],\n",
       "       [6.2, 2.8, 4.8, 1.8],\n",
       "       [4.8, 3.1, 1.6, 0.2],\n",
       "       [5. , 3.2, 1.2, 0.2],\n",
       "       [7.2, 3.2, 6. , 1.8],\n",
       "       [7.2, 3.6, 6.1, 2.5],\n",
       "       [5.7, 2.5, 5. , 2. ],\n",
       "       [4.8, 3.4, 1.9, 0.2],\n",
       "       [5.7, 2.6, 3.5, 1. ],\n",
       "       [6.8, 3.2, 5.9, 2.3],\n",
       "       [5.1, 3.5, 1.4, 0.3],\n",
       "       [4.8, 3. , 1.4, 0.1],\n",
       "       [6. , 2.2, 5. , 1.5],\n",
       "       [6.4, 2.8, 5.6, 2.1],\n",
       "       [5.7, 4.4, 1.5, 0.4],\n",
       "       [6.1, 2.8, 4. , 1.3],\n",
       "       [5.7, 3.8, 1.7, 0.3],\n",
       "       [4.9, 2.5, 4.5, 1.7],\n",
       "       [7.7, 3.8, 6.7, 2.2],\n",
       "       [4.4, 3. , 1.3, 0.2],\n",
       "       [6.3, 2.9, 5.6, 1.8],\n",
       "       [6.3, 3.3, 4.7, 1.6],\n",
       "       [6.9, 3.1, 4.9, 1.5],\n",
       "       [6.7, 3.3, 5.7, 2.1],\n",
       "       [5. , 3.4, 1.5, 0.2],\n",
       "       [6.9, 3.1, 5.4, 2.1],\n",
       "       [5.2, 3.4, 1.4, 0.2],\n",
       "       [5.7, 2.8, 4.1, 1.3],\n",
       "       [6.3, 2.8, 5.1, 1.5],\n",
       "       [5.5, 3.5, 1.3, 0.2],\n",
       "       [6. , 2.2, 4. , 1. ],\n",
       "       [4.4, 2.9, 1.4, 0.2],\n",
       "       [6.7, 3.1, 5.6, 2.4],\n",
       "       [6.1, 2.8, 4.7, 1.2],\n",
       "       [7.6, 3. , 6.6, 2.1],\n",
       "       [5.1, 3.5, 1.4, 0.2],\n",
       "       [6.7, 3.3, 5.7, 2.5],\n",
       "       [7.3, 2.9, 6.3, 1.8],\n",
       "       [5.9, 3. , 5.1, 1.8],\n",
       "       [6.8, 2.8, 4.8, 1.4],\n",
       "       [5.4, 3.7, 1.5, 0.2],\n",
       "       [5.1, 3.8, 1.5, 0.3],\n",
       "       [5.6, 2.8, 4.9, 2. ],\n",
       "       [6.3, 2.5, 4.9, 1.5],\n",
       "       [5.1, 3.8, 1.9, 0.4],\n",
       "       [5.2, 2.7, 3.9, 1.4],\n",
       "       [7.9, 3.8, 6.4, 2. ],\n",
       "       [6.4, 3.2, 5.3, 2.3],\n",
       "       [6.4, 2.7, 5.3, 1.9],\n",
       "       [6. , 2.7, 5.1, 1.6],\n",
       "       [5. , 3.3, 1.4, 0.2],\n",
       "       [6.9, 3.1, 5.1, 2.3],\n",
       "       [5.4, 3.9, 1.7, 0.4],\n",
       "       [6.5, 3.2, 5.1, 2. ],\n",
       "       [5. , 2. , 3.5, 1. ],\n",
       "       [6.7, 3. , 5.2, 2.3],\n",
       "       [6.4, 2.8, 5.6, 2.2],\n",
       "       [5. , 3.5, 1.3, 0.3],\n",
       "       [6.4, 3.1, 5.5, 1.8],\n",
       "       [6.6, 3. , 4.4, 1.4],\n",
       "       [6.3, 2.3, 4.4, 1.3],\n",
       "       [6.1, 2.9, 4.7, 1.4],\n",
       "       [5.9, 3.2, 4.8, 1.8],\n",
       "       [5.5, 2.4, 3.7, 1. ],\n",
       "       [4.8, 3.4, 1.6, 0.2],\n",
       "       [5.7, 3. , 4.2, 1.2]])"
      ]
     },
     "execution_count": 149,
     "metadata": {},
     "output_type": "execute_result"
    }
   ],
   "source": [
    "X_train"
   ]
  },
  {
   "cell_type": "code",
   "execution_count": 150,
   "metadata": {},
   "outputs": [],
   "source": [
    "from sklearn.preprocessing import MinMaxScaler"
   ]
  },
  {
   "cell_type": "code",
   "execution_count": 151,
   "metadata": {},
   "outputs": [],
   "source": [
    "scaler = MinMaxScaler()"
   ]
  },
  {
   "cell_type": "code",
   "execution_count": 152,
   "metadata": {},
   "outputs": [],
   "source": [
    "X_train = scaler.fit_transform(X_train)\n",
    "X_test = scaler.transform(X_test)"
   ]
  },
  {
   "cell_type": "code",
   "execution_count": 153,
   "metadata": {},
   "outputs": [],
   "source": [
    "from tensorflow.keras.models import Sequential\n",
    "from tensorflow.keras.layers import Dense, Dropout"
   ]
  },
  {
   "cell_type": "code",
   "execution_count": 154,
   "metadata": {},
   "outputs": [],
   "source": [
    "model = Sequential()\n",
    "\n",
    "model.add(Dense(4, activation='relu', input_shape=[4,]))\n",
    "\n",
    "model.add(Dense(3, activation='softmax'))\n",
    "\n",
    "model.compile(loss='categorical_crossentropy', optimizer='adam', metrics=['accuracy'])"
   ]
  },
  {
   "cell_type": "code",
   "execution_count": 155,
   "metadata": {},
   "outputs": [],
   "source": [
    "from tensorflow.keras.callbacks import EarlyStopping"
   ]
  },
  {
   "cell_type": "code",
   "execution_count": 156,
   "metadata": {},
   "outputs": [],
   "source": [
    "early_stop = EarlyStopping(patience=5)"
   ]
  },
  {
   "cell_type": "code",
   "execution_count": 157,
   "metadata": {},
   "outputs": [
    {
     "name": "stdout",
     "output_type": "stream",
     "text": [
      "Epoch 1/300\n",
      "4/4 [==============================] - 0s 27ms/step - loss: 1.0798 - accuracy: 0.3167 - val_loss: 1.0678 - val_accuracy: 0.3667\n",
      "Epoch 2/300\n",
      "4/4 [==============================] - 0s 10ms/step - loss: 1.0758 - accuracy: 0.3167 - val_loss: 1.0658 - val_accuracy: 0.3667\n",
      "Epoch 3/300\n",
      "4/4 [==============================] - 0s 9ms/step - loss: 1.0720 - accuracy: 0.3167 - val_loss: 1.0640 - val_accuracy: 0.3667\n",
      "Epoch 4/300\n",
      "4/4 [==============================] - 0s 9ms/step - loss: 1.0688 - accuracy: 0.3167 - val_loss: 1.0621 - val_accuracy: 0.3667\n",
      "Epoch 5/300\n",
      "4/4 [==============================] - 0s 10ms/step - loss: 1.0648 - accuracy: 0.3167 - val_loss: 1.0603 - val_accuracy: 0.3667\n",
      "Epoch 6/300\n",
      "4/4 [==============================] - 0s 10ms/step - loss: 1.0616 - accuracy: 0.3250 - val_loss: 1.0584 - val_accuracy: 0.4000\n",
      "Epoch 7/300\n",
      "4/4 [==============================] - 0s 11ms/step - loss: 1.0578 - accuracy: 0.3333 - val_loss: 1.0565 - val_accuracy: 0.4333\n",
      "Epoch 8/300\n",
      "4/4 [==============================] - 0s 12ms/step - loss: 1.0542 - accuracy: 0.3250 - val_loss: 1.0547 - val_accuracy: 0.4333\n",
      "Epoch 9/300\n",
      "4/4 [==============================] - 0s 11ms/step - loss: 1.0507 - accuracy: 0.3250 - val_loss: 1.0528 - val_accuracy: 0.4000\n",
      "Epoch 10/300\n",
      "4/4 [==============================] - 0s 9ms/step - loss: 1.0477 - accuracy: 0.3583 - val_loss: 1.0508 - val_accuracy: 0.3667\n",
      "Epoch 11/300\n",
      "4/4 [==============================] - 0s 10ms/step - loss: 1.0439 - accuracy: 0.3500 - val_loss: 1.0486 - val_accuracy: 0.4000\n",
      "Epoch 12/300\n",
      "4/4 [==============================] - 0s 10ms/step - loss: 1.0404 - accuracy: 0.3667 - val_loss: 1.0463 - val_accuracy: 0.4000\n",
      "Epoch 13/300\n",
      "4/4 [==============================] - 0s 11ms/step - loss: 1.0369 - accuracy: 0.4000 - val_loss: 1.0440 - val_accuracy: 0.3667\n",
      "Epoch 14/300\n",
      "4/4 [==============================] - 0s 10ms/step - loss: 1.0337 - accuracy: 0.4083 - val_loss: 1.0417 - val_accuracy: 0.3667\n",
      "Epoch 15/300\n",
      "4/4 [==============================] - 0s 10ms/step - loss: 1.0299 - accuracy: 0.5000 - val_loss: 1.0392 - val_accuracy: 0.5000\n",
      "Epoch 16/300\n",
      "4/4 [==============================] - 0s 9ms/step - loss: 1.0265 - accuracy: 0.5750 - val_loss: 1.0365 - val_accuracy: 0.5333\n",
      "Epoch 17/300\n",
      "4/4 [==============================] - 0s 11ms/step - loss: 1.0231 - accuracy: 0.6583 - val_loss: 1.0339 - val_accuracy: 0.5667\n",
      "Epoch 18/300\n",
      "4/4 [==============================] - 0s 9ms/step - loss: 1.0191 - accuracy: 0.7083 - val_loss: 1.0311 - val_accuracy: 0.6333\n",
      "Epoch 19/300\n",
      "4/4 [==============================] - 0s 10ms/step - loss: 1.0155 - accuracy: 0.7250 - val_loss: 1.0281 - val_accuracy: 0.6333\n",
      "Epoch 20/300\n",
      "4/4 [==============================] - 0s 10ms/step - loss: 1.0117 - accuracy: 0.7417 - val_loss: 1.0249 - val_accuracy: 0.6333\n",
      "Epoch 21/300\n",
      "4/4 [==============================] - 0s 9ms/step - loss: 1.0078 - accuracy: 0.7417 - val_loss: 1.0217 - val_accuracy: 0.6333\n",
      "Epoch 22/300\n",
      "4/4 [==============================] - 0s 10ms/step - loss: 1.0042 - accuracy: 0.7583 - val_loss: 1.0185 - val_accuracy: 0.6333\n",
      "Epoch 23/300\n",
      "4/4 [==============================] - 0s 9ms/step - loss: 1.0001 - accuracy: 0.7583 - val_loss: 1.0153 - val_accuracy: 0.6333\n",
      "Epoch 24/300\n",
      "4/4 [==============================] - 0s 10ms/step - loss: 0.9961 - accuracy: 0.7333 - val_loss: 1.0118 - val_accuracy: 0.6667\n",
      "Epoch 25/300\n",
      "4/4 [==============================] - 0s 9ms/step - loss: 0.9921 - accuracy: 0.7250 - val_loss: 1.0083 - val_accuracy: 0.6667\n",
      "Epoch 26/300\n",
      "4/4 [==============================] - 0s 11ms/step - loss: 0.9880 - accuracy: 0.7250 - val_loss: 1.0047 - val_accuracy: 0.6667\n",
      "Epoch 27/300\n",
      "4/4 [==============================] - 0s 9ms/step - loss: 0.9837 - accuracy: 0.7250 - val_loss: 1.0010 - val_accuracy: 0.6333\n",
      "Epoch 28/300\n",
      "4/4 [==============================] - 0s 11ms/step - loss: 0.9795 - accuracy: 0.7250 - val_loss: 0.9972 - val_accuracy: 0.6333\n",
      "Epoch 29/300\n",
      "4/4 [==============================] - 0s 10ms/step - loss: 0.9753 - accuracy: 0.7250 - val_loss: 0.9935 - val_accuracy: 0.6333\n",
      "Epoch 30/300\n",
      "4/4 [==============================] - 0s 10ms/step - loss: 0.9708 - accuracy: 0.7250 - val_loss: 0.9897 - val_accuracy: 0.6333\n",
      "Epoch 31/300\n",
      "4/4 [==============================] - 0s 11ms/step - loss: 0.9666 - accuracy: 0.7167 - val_loss: 0.9861 - val_accuracy: 0.6667\n",
      "Epoch 32/300\n",
      "4/4 [==============================] - 0s 9ms/step - loss: 0.9621 - accuracy: 0.7083 - val_loss: 0.9824 - val_accuracy: 0.6333\n",
      "Epoch 33/300\n",
      "4/4 [==============================] - 0s 10ms/step - loss: 0.9576 - accuracy: 0.7000 - val_loss: 0.9784 - val_accuracy: 0.6000\n",
      "Epoch 34/300\n",
      "4/4 [==============================] - 0s 10ms/step - loss: 0.9529 - accuracy: 0.7000 - val_loss: 0.9742 - val_accuracy: 0.6000\n",
      "Epoch 35/300\n",
      "4/4 [==============================] - 0s 9ms/step - loss: 0.9485 - accuracy: 0.7000 - val_loss: 0.9704 - val_accuracy: 0.6000\n",
      "Epoch 36/300\n",
      "4/4 [==============================] - 0s 10ms/step - loss: 0.9441 - accuracy: 0.6917 - val_loss: 0.9664 - val_accuracy: 0.6000\n",
      "Epoch 37/300\n",
      "4/4 [==============================] - 0s 10ms/step - loss: 0.9395 - accuracy: 0.6917 - val_loss: 0.9623 - val_accuracy: 0.6000\n",
      "Epoch 38/300\n",
      "4/4 [==============================] - 0s 11ms/step - loss: 0.9349 - accuracy: 0.6917 - val_loss: 0.9584 - val_accuracy: 0.6000\n",
      "Epoch 39/300\n",
      "4/4 [==============================] - 0s 9ms/step - loss: 0.9303 - accuracy: 0.6917 - val_loss: 0.9545 - val_accuracy: 0.6000\n",
      "Epoch 40/300\n",
      "4/4 [==============================] - 0s 10ms/step - loss: 0.9260 - accuracy: 0.6917 - val_loss: 0.9504 - val_accuracy: 0.6000\n",
      "Epoch 41/300\n",
      "4/4 [==============================] - 0s 9ms/step - loss: 0.9212 - accuracy: 0.6833 - val_loss: 0.9465 - val_accuracy: 0.6000\n",
      "Epoch 42/300\n",
      "4/4 [==============================] - 0s 11ms/step - loss: 0.9165 - accuracy: 0.6833 - val_loss: 0.9426 - val_accuracy: 0.6000\n",
      "Epoch 43/300\n",
      "4/4 [==============================] - 0s 10ms/step - loss: 0.9120 - accuracy: 0.6833 - val_loss: 0.9387 - val_accuracy: 0.6000\n",
      "Epoch 44/300\n",
      "4/4 [==============================] - 0s 11ms/step - loss: 0.9074 - accuracy: 0.6833 - val_loss: 0.9349 - val_accuracy: 0.6000\n",
      "Epoch 45/300\n",
      "4/4 [==============================] - 0s 10ms/step - loss: 0.9028 - accuracy: 0.6833 - val_loss: 0.9304 - val_accuracy: 0.6000\n",
      "Epoch 46/300\n",
      "4/4 [==============================] - 0s 10ms/step - loss: 0.8983 - accuracy: 0.6833 - val_loss: 0.9263 - val_accuracy: 0.6000\n",
      "Epoch 47/300\n",
      "4/4 [==============================] - 0s 10ms/step - loss: 0.8933 - accuracy: 0.6833 - val_loss: 0.9221 - val_accuracy: 0.6000\n",
      "Epoch 48/300\n",
      "4/4 [==============================] - 0s 11ms/step - loss: 0.8886 - accuracy: 0.6833 - val_loss: 0.9179 - val_accuracy: 0.6000\n",
      "Epoch 49/300\n",
      "4/4 [==============================] - 0s 12ms/step - loss: 0.8839 - accuracy: 0.6833 - val_loss: 0.9138 - val_accuracy: 0.6000\n",
      "Epoch 50/300\n",
      "4/4 [==============================] - 0s 12ms/step - loss: 0.8793 - accuracy: 0.6833 - val_loss: 0.9096 - val_accuracy: 0.6000\n",
      "Epoch 51/300\n",
      "4/4 [==============================] - 0s 11ms/step - loss: 0.8744 - accuracy: 0.6833 - val_loss: 0.9052 - val_accuracy: 0.6000\n",
      "Epoch 52/300\n",
      "4/4 [==============================] - 0s 10ms/step - loss: 0.8696 - accuracy: 0.6833 - val_loss: 0.9008 - val_accuracy: 0.6000\n",
      "Epoch 53/300\n",
      "4/4 [==============================] - 0s 10ms/step - loss: 0.8648 - accuracy: 0.6833 - val_loss: 0.8963 - val_accuracy: 0.6000\n",
      "Epoch 54/300\n",
      "4/4 [==============================] - 0s 9ms/step - loss: 0.8601 - accuracy: 0.6833 - val_loss: 0.8917 - val_accuracy: 0.6000\n",
      "Epoch 55/300\n",
      "4/4 [==============================] - 0s 11ms/step - loss: 0.8552 - accuracy: 0.6833 - val_loss: 0.8876 - val_accuracy: 0.6000\n",
      "Epoch 56/300\n",
      "4/4 [==============================] - 0s 11ms/step - loss: 0.8503 - accuracy: 0.6833 - val_loss: 0.8831 - val_accuracy: 0.6000\n",
      "Epoch 57/300\n",
      "4/4 [==============================] - 0s 10ms/step - loss: 0.8454 - accuracy: 0.6833 - val_loss: 0.8789 - val_accuracy: 0.6000\n",
      "Epoch 58/300\n",
      "4/4 [==============================] - 0s 11ms/step - loss: 0.8405 - accuracy: 0.6833 - val_loss: 0.8745 - val_accuracy: 0.6000\n",
      "Epoch 59/300\n"
     ]
    },
    {
     "name": "stdout",
     "output_type": "stream",
     "text": [
      "4/4 [==============================] - 0s 9ms/step - loss: 0.8358 - accuracy: 0.6833 - val_loss: 0.8701 - val_accuracy: 0.6000\n",
      "Epoch 60/300\n",
      "4/4 [==============================] - 0s 10ms/step - loss: 0.8308 - accuracy: 0.6833 - val_loss: 0.8657 - val_accuracy: 0.6000\n",
      "Epoch 61/300\n",
      "4/4 [==============================] - 0s 9ms/step - loss: 0.8261 - accuracy: 0.6833 - val_loss: 0.8614 - val_accuracy: 0.6000\n",
      "Epoch 62/300\n",
      "4/4 [==============================] - 0s 10ms/step - loss: 0.8210 - accuracy: 0.6833 - val_loss: 0.8569 - val_accuracy: 0.6000\n",
      "Epoch 63/300\n",
      "4/4 [==============================] - 0s 9ms/step - loss: 0.8161 - accuracy: 0.6917 - val_loss: 0.8523 - val_accuracy: 0.6000\n",
      "Epoch 64/300\n",
      "4/4 [==============================] - 0s 8ms/step - loss: 0.8114 - accuracy: 0.6917 - val_loss: 0.8475 - val_accuracy: 0.6000\n",
      "Epoch 65/300\n",
      "4/4 [==============================] - 0s 10ms/step - loss: 0.8063 - accuracy: 0.6917 - val_loss: 0.8433 - val_accuracy: 0.6000\n",
      "Epoch 66/300\n",
      "4/4 [==============================] - 0s 9ms/step - loss: 0.8016 - accuracy: 0.6917 - val_loss: 0.8387 - val_accuracy: 0.6000\n",
      "Epoch 67/300\n",
      "4/4 [==============================] - 0s 9ms/step - loss: 0.7966 - accuracy: 0.6917 - val_loss: 0.8345 - val_accuracy: 0.6000\n",
      "Epoch 68/300\n",
      "4/4 [==============================] - 0s 9ms/step - loss: 0.7919 - accuracy: 0.6917 - val_loss: 0.8301 - val_accuracy: 0.6000\n",
      "Epoch 69/300\n",
      "4/4 [==============================] - 0s 9ms/step - loss: 0.7871 - accuracy: 0.6917 - val_loss: 0.8262 - val_accuracy: 0.6000\n",
      "Epoch 70/300\n",
      "4/4 [==============================] - 0s 10ms/step - loss: 0.7825 - accuracy: 0.6917 - val_loss: 0.8221 - val_accuracy: 0.6000\n",
      "Epoch 71/300\n",
      "4/4 [==============================] - 0s 11ms/step - loss: 0.7775 - accuracy: 0.6917 - val_loss: 0.8176 - val_accuracy: 0.6000\n",
      "Epoch 72/300\n",
      "4/4 [==============================] - 0s 9ms/step - loss: 0.7729 - accuracy: 0.6917 - val_loss: 0.8131 - val_accuracy: 0.6000\n",
      "Epoch 73/300\n",
      "4/4 [==============================] - 0s 10ms/step - loss: 0.7680 - accuracy: 0.6917 - val_loss: 0.8091 - val_accuracy: 0.6000\n",
      "Epoch 74/300\n",
      "4/4 [==============================] - 0s 9ms/step - loss: 0.7633 - accuracy: 0.6917 - val_loss: 0.8047 - val_accuracy: 0.6000\n",
      "Epoch 75/300\n",
      "4/4 [==============================] - 0s 10ms/step - loss: 0.7587 - accuracy: 0.6917 - val_loss: 0.8004 - val_accuracy: 0.6000\n",
      "Epoch 76/300\n",
      "4/4 [==============================] - 0s 10ms/step - loss: 0.7540 - accuracy: 0.6917 - val_loss: 0.7962 - val_accuracy: 0.6000\n",
      "Epoch 77/300\n",
      "4/4 [==============================] - 0s 9ms/step - loss: 0.7494 - accuracy: 0.6917 - val_loss: 0.7918 - val_accuracy: 0.6000\n",
      "Epoch 78/300\n",
      "4/4 [==============================] - 0s 8ms/step - loss: 0.7448 - accuracy: 0.6917 - val_loss: 0.7877 - val_accuracy: 0.6000\n",
      "Epoch 79/300\n",
      "4/4 [==============================] - 0s 9ms/step - loss: 0.7403 - accuracy: 0.6917 - val_loss: 0.7835 - val_accuracy: 0.6000\n",
      "Epoch 80/300\n",
      "4/4 [==============================] - 0s 11ms/step - loss: 0.7356 - accuracy: 0.6917 - val_loss: 0.7792 - val_accuracy: 0.6333\n",
      "Epoch 81/300\n",
      "4/4 [==============================] - 0s 11ms/step - loss: 0.7311 - accuracy: 0.6917 - val_loss: 0.7750 - val_accuracy: 0.6333\n",
      "Epoch 82/300\n",
      "4/4 [==============================] - 0s 10ms/step - loss: 0.7266 - accuracy: 0.6917 - val_loss: 0.7707 - val_accuracy: 0.6333\n",
      "Epoch 83/300\n",
      "4/4 [==============================] - 0s 10ms/step - loss: 0.7222 - accuracy: 0.6917 - val_loss: 0.7666 - val_accuracy: 0.6333\n",
      "Epoch 84/300\n",
      "4/4 [==============================] - 0s 11ms/step - loss: 0.7177 - accuracy: 0.6917 - val_loss: 0.7625 - val_accuracy: 0.6333\n",
      "Epoch 85/300\n",
      "4/4 [==============================] - 0s 11ms/step - loss: 0.7133 - accuracy: 0.6917 - val_loss: 0.7583 - val_accuracy: 0.6333\n",
      "Epoch 86/300\n",
      "4/4 [==============================] - 0s 10ms/step - loss: 0.7090 - accuracy: 0.6917 - val_loss: 0.7541 - val_accuracy: 0.6333\n",
      "Epoch 87/300\n",
      "4/4 [==============================] - 0s 11ms/step - loss: 0.7046 - accuracy: 0.6917 - val_loss: 0.7502 - val_accuracy: 0.6333\n",
      "Epoch 88/300\n",
      "4/4 [==============================] - 0s 11ms/step - loss: 0.7003 - accuracy: 0.6917 - val_loss: 0.7463 - val_accuracy: 0.6333\n",
      "Epoch 89/300\n",
      "4/4 [==============================] - 0s 11ms/step - loss: 0.6962 - accuracy: 0.6917 - val_loss: 0.7424 - val_accuracy: 0.6333\n",
      "Epoch 90/300\n",
      "4/4 [==============================] - 0s 11ms/step - loss: 0.6919 - accuracy: 0.6917 - val_loss: 0.7380 - val_accuracy: 0.6333\n",
      "Epoch 91/300\n",
      "4/4 [==============================] - 0s 11ms/step - loss: 0.6877 - accuracy: 0.6917 - val_loss: 0.7340 - val_accuracy: 0.6333\n",
      "Epoch 92/300\n",
      "4/4 [==============================] - 0s 10ms/step - loss: 0.6835 - accuracy: 0.6917 - val_loss: 0.7298 - val_accuracy: 0.6333\n",
      "Epoch 93/300\n",
      "4/4 [==============================] - 0s 10ms/step - loss: 0.6795 - accuracy: 0.6917 - val_loss: 0.7260 - val_accuracy: 0.6333\n",
      "Epoch 94/300\n",
      "4/4 [==============================] - 0s 9ms/step - loss: 0.6754 - accuracy: 0.6917 - val_loss: 0.7223 - val_accuracy: 0.6333\n",
      "Epoch 95/300\n",
      "4/4 [==============================] - 0s 11ms/step - loss: 0.6713 - accuracy: 0.6917 - val_loss: 0.7183 - val_accuracy: 0.6333\n",
      "Epoch 96/300\n",
      "4/4 [==============================] - 0s 10ms/step - loss: 0.6673 - accuracy: 0.6917 - val_loss: 0.7145 - val_accuracy: 0.6333\n",
      "Epoch 97/300\n",
      "4/4 [==============================] - 0s 18ms/step - loss: 0.6634 - accuracy: 0.6917 - val_loss: 0.7110 - val_accuracy: 0.6333\n",
      "Epoch 98/300\n",
      "4/4 [==============================] - 0s 14ms/step - loss: 0.6593 - accuracy: 0.6917 - val_loss: 0.7075 - val_accuracy: 0.6333\n",
      "Epoch 99/300\n",
      "4/4 [==============================] - 0s 18ms/step - loss: 0.6556 - accuracy: 0.6917 - val_loss: 0.7040 - val_accuracy: 0.6333\n",
      "Epoch 100/300\n",
      "4/4 [==============================] - 0s 15ms/step - loss: 0.6517 - accuracy: 0.6917 - val_loss: 0.7009 - val_accuracy: 0.6333\n",
      "Epoch 101/300\n",
      "4/4 [==============================] - 0s 11ms/step - loss: 0.6480 - accuracy: 0.6917 - val_loss: 0.6975 - val_accuracy: 0.6333\n",
      "Epoch 102/300\n",
      "4/4 [==============================] - 0s 9ms/step - loss: 0.6442 - accuracy: 0.6917 - val_loss: 0.6941 - val_accuracy: 0.6333\n",
      "Epoch 103/300\n",
      "4/4 [==============================] - 0s 10ms/step - loss: 0.6405 - accuracy: 0.6917 - val_loss: 0.6907 - val_accuracy: 0.6333\n",
      "Epoch 104/300\n",
      "4/4 [==============================] - 0s 8ms/step - loss: 0.6369 - accuracy: 0.6917 - val_loss: 0.6870 - val_accuracy: 0.6333\n",
      "Epoch 105/300\n",
      "4/4 [==============================] - 0s 7ms/step - loss: 0.6333 - accuracy: 0.7000 - val_loss: 0.6836 - val_accuracy: 0.6333\n",
      "Epoch 106/300\n",
      "4/4 [==============================] - 0s 7ms/step - loss: 0.6297 - accuracy: 0.7000 - val_loss: 0.6800 - val_accuracy: 0.6333\n",
      "Epoch 107/300\n",
      "4/4 [==============================] - 0s 8ms/step - loss: 0.6262 - accuracy: 0.7000 - val_loss: 0.6762 - val_accuracy: 0.6667\n",
      "Epoch 108/300\n",
      "4/4 [==============================] - 0s 8ms/step - loss: 0.6227 - accuracy: 0.7000 - val_loss: 0.6730 - val_accuracy: 0.6667\n",
      "Epoch 109/300\n",
      "4/4 [==============================] - 0s 9ms/step - loss: 0.6191 - accuracy: 0.7000 - val_loss: 0.6696 - val_accuracy: 0.6667\n",
      "Epoch 110/300\n",
      "4/4 [==============================] - 0s 10ms/step - loss: 0.6158 - accuracy: 0.7083 - val_loss: 0.6663 - val_accuracy: 0.6667\n",
      "Epoch 111/300\n",
      "4/4 [==============================] - 0s 10ms/step - loss: 0.6124 - accuracy: 0.7167 - val_loss: 0.6627 - val_accuracy: 0.6667\n",
      "Epoch 112/300\n",
      "4/4 [==============================] - ETA: 0s - loss: 0.6894 - accuracy: 0.71 - 0s 10ms/step - loss: 0.6090 - accuracy: 0.7167 - val_loss: 0.6594 - val_accuracy: 0.6667\n",
      "Epoch 113/300\n",
      "4/4 [==============================] - 0s 9ms/step - loss: 0.6058 - accuracy: 0.7250 - val_loss: 0.6557 - val_accuracy: 0.6667\n",
      "Epoch 114/300\n",
      "4/4 [==============================] - 0s 10ms/step - loss: 0.6025 - accuracy: 0.7333 - val_loss: 0.6524 - val_accuracy: 0.6667\n",
      "Epoch 115/300\n",
      "4/4 [==============================] - 0s 9ms/step - loss: 0.5993 - accuracy: 0.7333 - val_loss: 0.6495 - val_accuracy: 0.6667\n",
      "Epoch 116/300\n",
      "4/4 [==============================] - 0s 17ms/step - loss: 0.5960 - accuracy: 0.7333 - val_loss: 0.6462 - val_accuracy: 0.6667\n"
     ]
    },
    {
     "name": "stdout",
     "output_type": "stream",
     "text": [
      "Epoch 117/300\n",
      "4/4 [==============================] - 0s 13ms/step - loss: 0.5930 - accuracy: 0.7417 - val_loss: 0.6428 - val_accuracy: 0.6667\n",
      "Epoch 118/300\n",
      "4/4 [==============================] - 0s 9ms/step - loss: 0.5897 - accuracy: 0.7417 - val_loss: 0.6398 - val_accuracy: 0.6667\n",
      "Epoch 119/300\n",
      "4/4 [==============================] - 0s 14ms/step - loss: 0.5867 - accuracy: 0.7417 - val_loss: 0.6370 - val_accuracy: 0.6667\n",
      "Epoch 120/300\n",
      "4/4 [==============================] - 0s 13ms/step - loss: 0.5836 - accuracy: 0.7417 - val_loss: 0.6341 - val_accuracy: 0.6667\n",
      "Epoch 121/300\n",
      "4/4 [==============================] - 0s 9ms/step - loss: 0.5808 - accuracy: 0.7417 - val_loss: 0.6309 - val_accuracy: 0.6667\n",
      "Epoch 122/300\n",
      "4/4 [==============================] - 0s 10ms/step - loss: 0.5776 - accuracy: 0.7500 - val_loss: 0.6281 - val_accuracy: 0.6667\n",
      "Epoch 123/300\n",
      "4/4 [==============================] - 0s 9ms/step - loss: 0.5747 - accuracy: 0.7500 - val_loss: 0.6254 - val_accuracy: 0.6667\n",
      "Epoch 124/300\n",
      "4/4 [==============================] - 0s 8ms/step - loss: 0.5718 - accuracy: 0.7500 - val_loss: 0.6227 - val_accuracy: 0.7000\n",
      "Epoch 125/300\n",
      "4/4 [==============================] - 0s 15ms/step - loss: 0.5690 - accuracy: 0.7500 - val_loss: 0.6199 - val_accuracy: 0.7000\n",
      "Epoch 126/300\n",
      "4/4 [==============================] - 0s 9ms/step - loss: 0.5661 - accuracy: 0.7500 - val_loss: 0.6172 - val_accuracy: 0.7000\n",
      "Epoch 127/300\n",
      "4/4 [==============================] - 0s 12ms/step - loss: 0.5634 - accuracy: 0.7583 - val_loss: 0.6143 - val_accuracy: 0.7000\n",
      "Epoch 128/300\n",
      "4/4 [==============================] - 0s 15ms/step - loss: 0.5606 - accuracy: 0.7583 - val_loss: 0.6116 - val_accuracy: 0.7000\n",
      "Epoch 129/300\n",
      "4/4 [==============================] - 0s 14ms/step - loss: 0.5578 - accuracy: 0.7583 - val_loss: 0.6090 - val_accuracy: 0.7000\n",
      "Epoch 130/300\n",
      "4/4 [==============================] - 0s 12ms/step - loss: 0.5551 - accuracy: 0.7583 - val_loss: 0.6064 - val_accuracy: 0.7333\n",
      "Epoch 131/300\n",
      "4/4 [==============================] - 0s 11ms/step - loss: 0.5525 - accuracy: 0.7583 - val_loss: 0.6041 - val_accuracy: 0.7000\n",
      "Epoch 132/300\n",
      "4/4 [==============================] - 0s 12ms/step - loss: 0.5499 - accuracy: 0.7583 - val_loss: 0.6017 - val_accuracy: 0.7000\n",
      "Epoch 133/300\n",
      "4/4 [==============================] - 0s 9ms/step - loss: 0.5474 - accuracy: 0.7583 - val_loss: 0.5988 - val_accuracy: 0.7333\n",
      "Epoch 134/300\n",
      "4/4 [==============================] - 0s 11ms/step - loss: 0.5447 - accuracy: 0.7667 - val_loss: 0.5959 - val_accuracy: 0.7667\n",
      "Epoch 135/300\n",
      "4/4 [==============================] - 0s 10ms/step - loss: 0.5422 - accuracy: 0.7750 - val_loss: 0.5931 - val_accuracy: 0.7667\n",
      "Epoch 136/300\n",
      "4/4 [==============================] - 0s 9ms/step - loss: 0.5397 - accuracy: 0.7833 - val_loss: 0.5905 - val_accuracy: 0.7667\n",
      "Epoch 137/300\n",
      "4/4 [==============================] - 0s 10ms/step - loss: 0.5373 - accuracy: 0.8000 - val_loss: 0.5880 - val_accuracy: 0.7667\n",
      "Epoch 138/300\n",
      "4/4 [==============================] - 0s 9ms/step - loss: 0.5348 - accuracy: 0.8000 - val_loss: 0.5853 - val_accuracy: 0.7667\n",
      "Epoch 139/300\n",
      "4/4 [==============================] - 0s 9ms/step - loss: 0.5325 - accuracy: 0.8000 - val_loss: 0.5824 - val_accuracy: 0.7667\n",
      "Epoch 140/300\n",
      "4/4 [==============================] - 0s 9ms/step - loss: 0.5300 - accuracy: 0.8000 - val_loss: 0.5800 - val_accuracy: 0.7667\n",
      "Epoch 141/300\n",
      "4/4 [==============================] - 0s 12ms/step - loss: 0.5277 - accuracy: 0.8000 - val_loss: 0.5775 - val_accuracy: 0.7667\n",
      "Epoch 142/300\n",
      "4/4 [==============================] - 0s 10ms/step - loss: 0.5254 - accuracy: 0.8083 - val_loss: 0.5749 - val_accuracy: 0.7667\n",
      "Epoch 143/300\n",
      "4/4 [==============================] - 0s 10ms/step - loss: 0.5231 - accuracy: 0.8083 - val_loss: 0.5724 - val_accuracy: 0.7667\n",
      "Epoch 144/300\n",
      "4/4 [==============================] - 0s 15ms/step - loss: 0.5208 - accuracy: 0.8167 - val_loss: 0.5702 - val_accuracy: 0.7667\n",
      "Epoch 145/300\n",
      "4/4 [==============================] - 0s 11ms/step - loss: 0.5186 - accuracy: 0.8167 - val_loss: 0.5680 - val_accuracy: 0.7667\n",
      "Epoch 146/300\n",
      "4/4 [==============================] - 0s 12ms/step - loss: 0.5163 - accuracy: 0.8167 - val_loss: 0.5656 - val_accuracy: 0.7667\n",
      "Epoch 147/300\n",
      "4/4 [==============================] - 0s 13ms/step - loss: 0.5142 - accuracy: 0.8250 - val_loss: 0.5633 - val_accuracy: 0.8000\n",
      "Epoch 148/300\n",
      "4/4 [==============================] - ETA: 0s - loss: 0.5270 - accuracy: 0.81 - 0s 10ms/step - loss: 0.5119 - accuracy: 0.8333 - val_loss: 0.5611 - val_accuracy: 0.8000\n",
      "Epoch 149/300\n",
      "4/4 [==============================] - 0s 9ms/step - loss: 0.5098 - accuracy: 0.8333 - val_loss: 0.5589 - val_accuracy: 0.8000\n",
      "Epoch 150/300\n",
      "4/4 [==============================] - ETA: 0s - loss: 0.4731 - accuracy: 0.93 - 0s 9ms/step - loss: 0.5077 - accuracy: 0.8333 - val_loss: 0.5568 - val_accuracy: 0.8000\n",
      "Epoch 151/300\n",
      "4/4 [==============================] - 0s 10ms/step - loss: 0.5057 - accuracy: 0.8333 - val_loss: 0.5550 - val_accuracy: 0.8000\n",
      "Epoch 152/300\n",
      "4/4 [==============================] - 0s 7ms/step - loss: 0.5036 - accuracy: 0.8333 - val_loss: 0.5529 - val_accuracy: 0.8000\n",
      "Epoch 153/300\n",
      "4/4 [==============================] - 0s 7ms/step - loss: 0.5015 - accuracy: 0.8333 - val_loss: 0.5509 - val_accuracy: 0.8000\n",
      "Epoch 154/300\n",
      "4/4 [==============================] - 0s 7ms/step - loss: 0.4995 - accuracy: 0.8333 - val_loss: 0.5485 - val_accuracy: 0.8000\n",
      "Epoch 155/300\n",
      "4/4 [==============================] - 0s 8ms/step - loss: 0.4974 - accuracy: 0.8333 - val_loss: 0.5464 - val_accuracy: 0.8000\n",
      "Epoch 156/300\n",
      "4/4 [==============================] - 0s 8ms/step - loss: 0.4955 - accuracy: 0.8333 - val_loss: 0.5443 - val_accuracy: 0.8000\n",
      "Epoch 157/300\n",
      "4/4 [==============================] - 0s 9ms/step - loss: 0.4935 - accuracy: 0.8333 - val_loss: 0.5425 - val_accuracy: 0.8000\n",
      "Epoch 158/300\n",
      "4/4 [==============================] - 0s 9ms/step - loss: 0.4916 - accuracy: 0.8333 - val_loss: 0.5405 - val_accuracy: 0.8000\n",
      "Epoch 159/300\n",
      "4/4 [==============================] - 0s 8ms/step - loss: 0.4897 - accuracy: 0.8333 - val_loss: 0.5383 - val_accuracy: 0.8000\n",
      "Epoch 160/300\n",
      "4/4 [==============================] - 0s 7ms/step - loss: 0.4878 - accuracy: 0.8250 - val_loss: 0.5361 - val_accuracy: 0.8000\n",
      "Epoch 161/300\n",
      "4/4 [==============================] - 0s 8ms/step - loss: 0.4860 - accuracy: 0.8250 - val_loss: 0.5343 - val_accuracy: 0.8000\n",
      "Epoch 162/300\n",
      "4/4 [==============================] - 0s 8ms/step - loss: 0.4842 - accuracy: 0.8250 - val_loss: 0.5320 - val_accuracy: 0.8000\n",
      "Epoch 163/300\n",
      "4/4 [==============================] - 0s 7ms/step - loss: 0.4822 - accuracy: 0.8250 - val_loss: 0.5300 - val_accuracy: 0.8000\n",
      "Epoch 164/300\n",
      "4/4 [==============================] - 0s 8ms/step - loss: 0.4804 - accuracy: 0.8250 - val_loss: 0.5281 - val_accuracy: 0.8000\n",
      "Epoch 165/300\n",
      "4/4 [==============================] - 0s 7ms/step - loss: 0.4787 - accuracy: 0.8250 - val_loss: 0.5261 - val_accuracy: 0.8000\n",
      "Epoch 166/300\n",
      "4/4 [==============================] - 0s 7ms/step - loss: 0.4768 - accuracy: 0.8250 - val_loss: 0.5244 - val_accuracy: 0.8000\n",
      "Epoch 167/300\n",
      "4/4 [==============================] - 0s 7ms/step - loss: 0.4751 - accuracy: 0.8250 - val_loss: 0.5226 - val_accuracy: 0.8000\n",
      "Epoch 168/300\n",
      "4/4 [==============================] - 0s 8ms/step - loss: 0.4734 - accuracy: 0.8250 - val_loss: 0.5206 - val_accuracy: 0.8000\n",
      "Epoch 169/300\n",
      "4/4 [==============================] - 0s 7ms/step - loss: 0.4717 - accuracy: 0.8250 - val_loss: 0.5187 - val_accuracy: 0.8000\n",
      "Epoch 170/300\n",
      "4/4 [==============================] - 0s 7ms/step - loss: 0.4698 - accuracy: 0.8250 - val_loss: 0.5171 - val_accuracy: 0.8000\n",
      "Epoch 171/300\n",
      "4/4 [==============================] - 0s 7ms/step - loss: 0.4682 - accuracy: 0.8250 - val_loss: 0.5156 - val_accuracy: 0.8000\n",
      "Epoch 172/300\n",
      "4/4 [==============================] - 0s 7ms/step - loss: 0.4666 - accuracy: 0.8250 - val_loss: 0.5138 - val_accuracy: 0.8000\n",
      "Epoch 173/300\n",
      "4/4 [==============================] - 0s 7ms/step - loss: 0.4649 - accuracy: 0.8250 - val_loss: 0.5121 - val_accuracy: 0.8000\n",
      "Epoch 174/300\n"
     ]
    },
    {
     "name": "stdout",
     "output_type": "stream",
     "text": [
      "4/4 [==============================] - 0s 8ms/step - loss: 0.4633 - accuracy: 0.8250 - val_loss: 0.5106 - val_accuracy: 0.8000\n",
      "Epoch 175/300\n",
      "4/4 [==============================] - 0s 7ms/step - loss: 0.4616 - accuracy: 0.8250 - val_loss: 0.5086 - val_accuracy: 0.8000\n",
      "Epoch 176/300\n",
      "4/4 [==============================] - ETA: 0s - loss: 0.3664 - accuracy: 0.90 - 0s 7ms/step - loss: 0.4600 - accuracy: 0.8250 - val_loss: 0.5067 - val_accuracy: 0.8333\n",
      "Epoch 177/300\n",
      "4/4 [==============================] - 0s 7ms/step - loss: 0.4584 - accuracy: 0.8333 - val_loss: 0.5048 - val_accuracy: 0.8333\n",
      "Epoch 178/300\n",
      "4/4 [==============================] - 0s 8ms/step - loss: 0.4568 - accuracy: 0.8417 - val_loss: 0.5029 - val_accuracy: 0.8333\n",
      "Epoch 179/300\n",
      "4/4 [==============================] - 0s 7ms/step - loss: 0.4552 - accuracy: 0.8417 - val_loss: 0.5010 - val_accuracy: 0.8333\n",
      "Epoch 180/300\n",
      "4/4 [==============================] - 0s 8ms/step - loss: 0.4537 - accuracy: 0.8417 - val_loss: 0.4991 - val_accuracy: 0.8333\n",
      "Epoch 181/300\n",
      "4/4 [==============================] - 0s 8ms/step - loss: 0.4521 - accuracy: 0.8500 - val_loss: 0.4974 - val_accuracy: 0.8667\n",
      "Epoch 182/300\n",
      "4/4 [==============================] - 0s 7ms/step - loss: 0.4505 - accuracy: 0.8500 - val_loss: 0.4959 - val_accuracy: 0.8667\n",
      "Epoch 183/300\n",
      "4/4 [==============================] - 0s 7ms/step - loss: 0.4491 - accuracy: 0.8500 - val_loss: 0.4939 - val_accuracy: 0.8667\n",
      "Epoch 184/300\n",
      "4/4 [==============================] - ETA: 0s - loss: 0.4113 - accuracy: 0.93 - 0s 7ms/step - loss: 0.4475 - accuracy: 0.8583 - val_loss: 0.4924 - val_accuracy: 0.8667\n",
      "Epoch 185/300\n",
      "4/4 [==============================] - 0s 8ms/step - loss: 0.4460 - accuracy: 0.8583 - val_loss: 0.4909 - val_accuracy: 0.8667\n",
      "Epoch 186/300\n",
      "4/4 [==============================] - 0s 7ms/step - loss: 0.4447 - accuracy: 0.8583 - val_loss: 0.4897 - val_accuracy: 0.8667\n",
      "Epoch 187/300\n",
      "4/4 [==============================] - ETA: 0s - loss: 0.4923 - accuracy: 0.78 - 0s 7ms/step - loss: 0.4431 - accuracy: 0.8583 - val_loss: 0.4880 - val_accuracy: 0.8667\n",
      "Epoch 188/300\n",
      "4/4 [==============================] - 0s 8ms/step - loss: 0.4416 - accuracy: 0.8583 - val_loss: 0.4866 - val_accuracy: 0.8667\n",
      "Epoch 189/300\n",
      "4/4 [==============================] - 0s 7ms/step - loss: 0.4401 - accuracy: 0.8583 - val_loss: 0.4849 - val_accuracy: 0.8667\n",
      "Epoch 190/300\n",
      "4/4 [==============================] - 0s 7ms/step - loss: 0.4387 - accuracy: 0.8667 - val_loss: 0.4831 - val_accuracy: 0.8667\n",
      "Epoch 191/300\n",
      "4/4 [==============================] - 0s 7ms/step - loss: 0.4374 - accuracy: 0.8750 - val_loss: 0.4813 - val_accuracy: 0.8667\n",
      "Epoch 192/300\n",
      "4/4 [==============================] - 0s 7ms/step - loss: 0.4359 - accuracy: 0.8750 - val_loss: 0.4798 - val_accuracy: 0.8667\n",
      "Epoch 193/300\n",
      "4/4 [==============================] - 0s 7ms/step - loss: 0.4345 - accuracy: 0.8750 - val_loss: 0.4785 - val_accuracy: 0.8667\n",
      "Epoch 194/300\n",
      "4/4 [==============================] - 0s 7ms/step - loss: 0.4330 - accuracy: 0.8750 - val_loss: 0.4772 - val_accuracy: 0.8667\n",
      "Epoch 195/300\n",
      "4/4 [==============================] - 0s 8ms/step - loss: 0.4319 - accuracy: 0.8750 - val_loss: 0.4763 - val_accuracy: 0.8667\n",
      "Epoch 196/300\n",
      "4/4 [==============================] - 0s 7ms/step - loss: 0.4304 - accuracy: 0.8750 - val_loss: 0.4748 - val_accuracy: 0.8667\n",
      "Epoch 197/300\n",
      "4/4 [==============================] - 0s 7ms/step - loss: 0.4290 - accuracy: 0.8750 - val_loss: 0.4731 - val_accuracy: 0.8667\n",
      "Epoch 198/300\n",
      "4/4 [==============================] - 0s 7ms/step - loss: 0.4277 - accuracy: 0.8750 - val_loss: 0.4718 - val_accuracy: 0.8667\n",
      "Epoch 199/300\n",
      "4/4 [==============================] - 0s 7ms/step - loss: 0.4263 - accuracy: 0.8750 - val_loss: 0.4702 - val_accuracy: 0.8667\n",
      "Epoch 200/300\n",
      "4/4 [==============================] - 0s 7ms/step - loss: 0.4249 - accuracy: 0.8750 - val_loss: 0.4686 - val_accuracy: 0.8667\n",
      "Epoch 201/300\n",
      "4/4 [==============================] - 0s 7ms/step - loss: 0.4236 - accuracy: 0.8750 - val_loss: 0.4670 - val_accuracy: 0.8667\n",
      "Epoch 202/300\n",
      "4/4 [==============================] - 0s 84ms/step - loss: 0.4223 - accuracy: 0.8750 - val_loss: 0.4654 - val_accuracy: 0.8667\n",
      "Epoch 203/300\n",
      "4/4 [==============================] - 0s 7ms/step - loss: 0.4211 - accuracy: 0.8750 - val_loss: 0.4638 - val_accuracy: 0.8667\n",
      "Epoch 204/300\n",
      "4/4 [==============================] - 0s 8ms/step - loss: 0.4198 - accuracy: 0.8750 - val_loss: 0.4625 - val_accuracy: 0.8667\n",
      "Epoch 205/300\n",
      "4/4 [==============================] - 0s 7ms/step - loss: 0.4184 - accuracy: 0.8750 - val_loss: 0.4607 - val_accuracy: 0.8667\n",
      "Epoch 206/300\n",
      "4/4 [==============================] - 0s 8ms/step - loss: 0.4172 - accuracy: 0.8750 - val_loss: 0.4589 - val_accuracy: 0.8667\n",
      "Epoch 207/300\n",
      "4/4 [==============================] - 0s 7ms/step - loss: 0.4159 - accuracy: 0.8750 - val_loss: 0.4573 - val_accuracy: 0.8667\n",
      "Epoch 208/300\n",
      "4/4 [==============================] - 0s 7ms/step - loss: 0.4146 - accuracy: 0.8833 - val_loss: 0.4560 - val_accuracy: 0.8667\n",
      "Epoch 209/300\n",
      "4/4 [==============================] - 0s 8ms/step - loss: 0.4133 - accuracy: 0.8833 - val_loss: 0.4547 - val_accuracy: 0.8667\n",
      "Epoch 210/300\n",
      "4/4 [==============================] - 0s 8ms/step - loss: 0.4121 - accuracy: 0.8833 - val_loss: 0.4533 - val_accuracy: 0.8667\n",
      "Epoch 211/300\n",
      "4/4 [==============================] - 0s 8ms/step - loss: 0.4109 - accuracy: 0.8833 - val_loss: 0.4523 - val_accuracy: 0.8667\n",
      "Epoch 212/300\n",
      "4/4 [==============================] - 0s 8ms/step - loss: 0.4096 - accuracy: 0.8833 - val_loss: 0.4511 - val_accuracy: 0.8667\n",
      "Epoch 213/300\n",
      "4/4 [==============================] - 0s 7ms/step - loss: 0.4084 - accuracy: 0.8833 - val_loss: 0.4500 - val_accuracy: 0.8667\n",
      "Epoch 214/300\n",
      "4/4 [==============================] - ETA: 0s - loss: 0.4132 - accuracy: 0.87 - 0s 7ms/step - loss: 0.4072 - accuracy: 0.8833 - val_loss: 0.4488 - val_accuracy: 0.8667\n",
      "Epoch 215/300\n",
      "4/4 [==============================] - 0s 8ms/step - loss: 0.4060 - accuracy: 0.8833 - val_loss: 0.4476 - val_accuracy: 0.8667\n",
      "Epoch 216/300\n",
      "4/4 [==============================] - 0s 7ms/step - loss: 0.4048 - accuracy: 0.8833 - val_loss: 0.4462 - val_accuracy: 0.8667\n",
      "Epoch 217/300\n",
      "4/4 [==============================] - 0s 9ms/step - loss: 0.4036 - accuracy: 0.8833 - val_loss: 0.4450 - val_accuracy: 0.9000\n",
      "Epoch 218/300\n",
      "4/4 [==============================] - 0s 12ms/step - loss: 0.4024 - accuracy: 0.8833 - val_loss: 0.4435 - val_accuracy: 0.9000\n",
      "Epoch 219/300\n",
      "4/4 [==============================] - 0s 9ms/step - loss: 0.4013 - accuracy: 0.8833 - val_loss: 0.4421 - val_accuracy: 0.9000\n",
      "Epoch 220/300\n",
      "4/4 [==============================] - 0s 7ms/step - loss: 0.4001 - accuracy: 0.8833 - val_loss: 0.4407 - val_accuracy: 0.9000\n",
      "Epoch 221/300\n",
      "4/4 [==============================] - 0s 7ms/step - loss: 0.3989 - accuracy: 0.8833 - val_loss: 0.4393 - val_accuracy: 0.9000\n",
      "Epoch 222/300\n",
      "4/4 [==============================] - 0s 8ms/step - loss: 0.3977 - accuracy: 0.8833 - val_loss: 0.4378 - val_accuracy: 0.9000\n",
      "Epoch 223/300\n",
      "4/4 [==============================] - 0s 7ms/step - loss: 0.3966 - accuracy: 0.8833 - val_loss: 0.4363 - val_accuracy: 0.9000\n",
      "Epoch 224/300\n",
      "4/4 [==============================] - 0s 7ms/step - loss: 0.3955 - accuracy: 0.8917 - val_loss: 0.4350 - val_accuracy: 0.8667\n",
      "Epoch 225/300\n",
      "4/4 [==============================] - 0s 8ms/step - loss: 0.3943 - accuracy: 0.8917 - val_loss: 0.4338 - val_accuracy: 0.9000\n",
      "Epoch 226/300\n",
      "4/4 [==============================] - 0s 7ms/step - loss: 0.3932 - accuracy: 0.8917 - val_loss: 0.4328 - val_accuracy: 0.9000\n",
      "Epoch 227/300\n",
      "4/4 [==============================] - 0s 7ms/step - loss: 0.3921 - accuracy: 0.8833 - val_loss: 0.4318 - val_accuracy: 0.9000\n",
      "Epoch 228/300\n",
      "4/4 [==============================] - 0s 7ms/step - loss: 0.3909 - accuracy: 0.8833 - val_loss: 0.4306 - val_accuracy: 0.9000\n",
      "Epoch 229/300\n",
      "4/4 [==============================] - 0s 8ms/step - loss: 0.3900 - accuracy: 0.8917 - val_loss: 0.4290 - val_accuracy: 0.8667\n",
      "Epoch 230/300\n",
      "4/4 [==============================] - 0s 7ms/step - loss: 0.3888 - accuracy: 0.9000 - val_loss: 0.4277 - val_accuracy: 0.8667\n"
     ]
    },
    {
     "name": "stdout",
     "output_type": "stream",
     "text": [
      "Epoch 231/300\n",
      "4/4 [==============================] - 0s 7ms/step - loss: 0.3878 - accuracy: 0.9000 - val_loss: 0.4269 - val_accuracy: 0.8667\n",
      "Epoch 232/300\n",
      "4/4 [==============================] - 0s 8ms/step - loss: 0.3866 - accuracy: 0.9000 - val_loss: 0.4257 - val_accuracy: 0.8667\n",
      "Epoch 233/300\n",
      "4/4 [==============================] - ETA: 0s - loss: 0.3263 - accuracy: 1.00 - 0s 7ms/step - loss: 0.3855 - accuracy: 0.9000 - val_loss: 0.4245 - val_accuracy: 0.8667\n",
      "Epoch 234/300\n",
      "4/4 [==============================] - ETA: 0s - loss: 0.4176 - accuracy: 0.84 - 0s 7ms/step - loss: 0.3846 - accuracy: 0.9000 - val_loss: 0.4228 - val_accuracy: 0.8667\n",
      "Epoch 235/300\n",
      "4/4 [==============================] - 0s 7ms/step - loss: 0.3833 - accuracy: 0.9000 - val_loss: 0.4216 - val_accuracy: 0.8667\n",
      "Epoch 236/300\n",
      "4/4 [==============================] - 0s 9ms/step - loss: 0.3824 - accuracy: 0.9000 - val_loss: 0.4208 - val_accuracy: 0.8667\n",
      "Epoch 237/300\n",
      "4/4 [==============================] - 0s 7ms/step - loss: 0.3812 - accuracy: 0.9000 - val_loss: 0.4196 - val_accuracy: 0.8667\n",
      "Epoch 238/300\n",
      "4/4 [==============================] - ETA: 0s - loss: 0.4063 - accuracy: 0.84 - 0s 7ms/step - loss: 0.3801 - accuracy: 0.9000 - val_loss: 0.4184 - val_accuracy: 0.8667\n",
      "Epoch 239/300\n",
      "4/4 [==============================] - 0s 8ms/step - loss: 0.3792 - accuracy: 0.9000 - val_loss: 0.4176 - val_accuracy: 0.8667\n",
      "Epoch 240/300\n",
      "4/4 [==============================] - 0s 7ms/step - loss: 0.3782 - accuracy: 0.9000 - val_loss: 0.4162 - val_accuracy: 0.8667\n",
      "Epoch 241/300\n",
      "4/4 [==============================] - 0s 8ms/step - loss: 0.3770 - accuracy: 0.9083 - val_loss: 0.4151 - val_accuracy: 0.8667\n",
      "Epoch 242/300\n",
      "4/4 [==============================] - ETA: 0s - loss: 0.3596 - accuracy: 0.96 - 0s 8ms/step - loss: 0.3760 - accuracy: 0.9083 - val_loss: 0.4140 - val_accuracy: 0.8667\n",
      "Epoch 243/300\n",
      "4/4 [==============================] - 0s 7ms/step - loss: 0.3750 - accuracy: 0.9083 - val_loss: 0.4131 - val_accuracy: 0.8667\n",
      "Epoch 244/300\n",
      "4/4 [==============================] - 0s 9ms/step - loss: 0.3739 - accuracy: 0.9083 - val_loss: 0.4118 - val_accuracy: 0.8667\n",
      "Epoch 245/300\n",
      "4/4 [==============================] - 0s 9ms/step - loss: 0.3729 - accuracy: 0.9083 - val_loss: 0.4106 - val_accuracy: 0.8667\n",
      "Epoch 246/300\n",
      "4/4 [==============================] - 0s 9ms/step - loss: 0.3719 - accuracy: 0.9083 - val_loss: 0.4095 - val_accuracy: 0.8667\n",
      "Epoch 247/300\n",
      "4/4 [==============================] - 0s 8ms/step - loss: 0.3709 - accuracy: 0.9083 - val_loss: 0.4083 - val_accuracy: 0.8667\n",
      "Epoch 248/300\n",
      "4/4 [==============================] - ETA: 0s - loss: 0.3245 - accuracy: 0.96 - 0s 8ms/step - loss: 0.3699 - accuracy: 0.9083 - val_loss: 0.4073 - val_accuracy: 0.8667\n",
      "Epoch 249/300\n",
      "4/4 [==============================] - 0s 8ms/step - loss: 0.3689 - accuracy: 0.9083 - val_loss: 0.4062 - val_accuracy: 0.8667\n",
      "Epoch 250/300\n",
      "4/4 [==============================] - 0s 8ms/step - loss: 0.3679 - accuracy: 0.9083 - val_loss: 0.4050 - val_accuracy: 0.8667\n",
      "Epoch 251/300\n",
      "4/4 [==============================] - 0s 8ms/step - loss: 0.3670 - accuracy: 0.9083 - val_loss: 0.4040 - val_accuracy: 0.8667\n",
      "Epoch 252/300\n",
      "4/4 [==============================] - 0s 7ms/step - loss: 0.3659 - accuracy: 0.9083 - val_loss: 0.4029 - val_accuracy: 0.8667\n",
      "Epoch 253/300\n",
      "4/4 [==============================] - 0s 8ms/step - loss: 0.3649 - accuracy: 0.9083 - val_loss: 0.4019 - val_accuracy: 0.8667\n",
      "Epoch 254/300\n",
      "4/4 [==============================] - 0s 7ms/step - loss: 0.3640 - accuracy: 0.9083 - val_loss: 0.4008 - val_accuracy: 0.8667\n",
      "Epoch 255/300\n",
      "4/4 [==============================] - 0s 7ms/step - loss: 0.3630 - accuracy: 0.9083 - val_loss: 0.3997 - val_accuracy: 0.8667\n",
      "Epoch 256/300\n",
      "4/4 [==============================] - 0s 7ms/step - loss: 0.3621 - accuracy: 0.9083 - val_loss: 0.3986 - val_accuracy: 0.8667\n",
      "Epoch 257/300\n",
      "4/4 [==============================] - 0s 7ms/step - loss: 0.3611 - accuracy: 0.9083 - val_loss: 0.3977 - val_accuracy: 0.8667\n",
      "Epoch 258/300\n",
      "4/4 [==============================] - 0s 7ms/step - loss: 0.3604 - accuracy: 0.9083 - val_loss: 0.3972 - val_accuracy: 0.8667\n",
      "Epoch 259/300\n",
      "4/4 [==============================] - ETA: 0s - loss: 0.3387 - accuracy: 0.90 - 0s 8ms/step - loss: 0.3593 - accuracy: 0.9083 - val_loss: 0.3963 - val_accuracy: 0.8667\n",
      "Epoch 260/300\n",
      "4/4 [==============================] - 0s 8ms/step - loss: 0.3583 - accuracy: 0.9083 - val_loss: 0.3949 - val_accuracy: 0.8667\n",
      "Epoch 261/300\n",
      "4/4 [==============================] - 0s 7ms/step - loss: 0.3573 - accuracy: 0.9083 - val_loss: 0.3939 - val_accuracy: 0.8667\n",
      "Epoch 262/300\n",
      "4/4 [==============================] - 0s 7ms/step - loss: 0.3564 - accuracy: 0.9083 - val_loss: 0.3927 - val_accuracy: 0.8667\n",
      "Epoch 263/300\n",
      "4/4 [==============================] - 0s 8ms/step - loss: 0.3554 - accuracy: 0.9083 - val_loss: 0.3913 - val_accuracy: 0.8667\n",
      "Epoch 264/300\n",
      "4/4 [==============================] - 0s 8ms/step - loss: 0.3545 - accuracy: 0.9083 - val_loss: 0.3902 - val_accuracy: 0.8667\n",
      "Epoch 265/300\n",
      "4/4 [==============================] - 0s 8ms/step - loss: 0.3537 - accuracy: 0.9083 - val_loss: 0.3888 - val_accuracy: 0.8667\n",
      "Epoch 266/300\n",
      "4/4 [==============================] - 0s 8ms/step - loss: 0.3527 - accuracy: 0.9083 - val_loss: 0.3880 - val_accuracy: 0.8667\n",
      "Epoch 267/300\n",
      "4/4 [==============================] - 0s 9ms/step - loss: 0.3518 - accuracy: 0.9083 - val_loss: 0.3867 - val_accuracy: 0.8667\n",
      "Epoch 268/300\n",
      "4/4 [==============================] - 0s 7ms/step - loss: 0.3509 - accuracy: 0.9167 - val_loss: 0.3856 - val_accuracy: 0.8667\n",
      "Epoch 269/300\n",
      "4/4 [==============================] - 0s 8ms/step - loss: 0.3500 - accuracy: 0.9250 - val_loss: 0.3846 - val_accuracy: 0.8667\n",
      "Epoch 270/300\n",
      "4/4 [==============================] - 0s 7ms/step - loss: 0.3493 - accuracy: 0.9250 - val_loss: 0.3834 - val_accuracy: 0.9000\n",
      "Epoch 271/300\n",
      "4/4 [==============================] - 0s 7ms/step - loss: 0.3482 - accuracy: 0.9250 - val_loss: 0.3828 - val_accuracy: 0.8667\n",
      "Epoch 272/300\n",
      "4/4 [==============================] - 0s 7ms/step - loss: 0.3473 - accuracy: 0.9250 - val_loss: 0.3818 - val_accuracy: 0.9000\n",
      "Epoch 273/300\n",
      "4/4 [==============================] - 0s 8ms/step - loss: 0.3464 - accuracy: 0.9250 - val_loss: 0.3812 - val_accuracy: 0.8667\n",
      "Epoch 274/300\n",
      "4/4 [==============================] - 0s 7ms/step - loss: 0.3455 - accuracy: 0.9167 - val_loss: 0.3803 - val_accuracy: 0.8667\n",
      "Epoch 275/300\n",
      "4/4 [==============================] - 0s 7ms/step - loss: 0.3446 - accuracy: 0.9167 - val_loss: 0.3796 - val_accuracy: 0.8667\n",
      "Epoch 276/300\n",
      "4/4 [==============================] - 0s 8ms/step - loss: 0.3437 - accuracy: 0.9167 - val_loss: 0.3788 - val_accuracy: 0.8667\n",
      "Epoch 277/300\n",
      "4/4 [==============================] - 0s 7ms/step - loss: 0.3428 - accuracy: 0.9167 - val_loss: 0.3780 - val_accuracy: 0.8667\n",
      "Epoch 278/300\n",
      "4/4 [==============================] - 0s 7ms/step - loss: 0.3420 - accuracy: 0.9167 - val_loss: 0.3771 - val_accuracy: 0.8667\n",
      "Epoch 279/300\n",
      "4/4 [==============================] - 0s 7ms/step - loss: 0.3411 - accuracy: 0.9167 - val_loss: 0.3760 - val_accuracy: 0.8667\n",
      "Epoch 280/300\n",
      "4/4 [==============================] - 0s 8ms/step - loss: 0.3402 - accuracy: 0.9167 - val_loss: 0.3749 - val_accuracy: 0.9000\n",
      "Epoch 281/300\n",
      "4/4 [==============================] - ETA: 0s - loss: 0.2619 - accuracy: 0.93 - 0s 7ms/step - loss: 0.3394 - accuracy: 0.9167 - val_loss: 0.3737 - val_accuracy: 0.9000\n",
      "Epoch 282/300\n",
      "4/4 [==============================] - 0s 7ms/step - loss: 0.3385 - accuracy: 0.9250 - val_loss: 0.3727 - val_accuracy: 0.9000\n",
      "Epoch 283/300\n",
      "4/4 [==============================] - 0s 8ms/step - loss: 0.3377 - accuracy: 0.9250 - val_loss: 0.3719 - val_accuracy: 0.9000\n",
      "Epoch 284/300\n",
      "4/4 [==============================] - 0s 7ms/step - loss: 0.3368 - accuracy: 0.9250 - val_loss: 0.3710 - val_accuracy: 0.9000\n",
      "Epoch 285/300\n",
      "4/4 [==============================] - 0s 8ms/step - loss: 0.3360 - accuracy: 0.9167 - val_loss: 0.3705 - val_accuracy: 0.9000\n",
      "Epoch 286/300\n",
      "4/4 [==============================] - 0s 8ms/step - loss: 0.3351 - accuracy: 0.9167 - val_loss: 0.3695 - val_accuracy: 0.9000\n",
      "Epoch 287/300\n"
     ]
    },
    {
     "name": "stdout",
     "output_type": "stream",
     "text": [
      "4/4 [==============================] - 0s 7ms/step - loss: 0.3343 - accuracy: 0.9167 - val_loss: 0.3684 - val_accuracy: 0.9000\n",
      "Epoch 288/300\n",
      "4/4 [==============================] - 0s 8ms/step - loss: 0.3335 - accuracy: 0.9167 - val_loss: 0.3678 - val_accuracy: 0.9000\n",
      "Epoch 289/300\n",
      "4/4 [==============================] - 0s 7ms/step - loss: 0.3327 - accuracy: 0.9167 - val_loss: 0.3667 - val_accuracy: 0.9000\n",
      "Epoch 290/300\n",
      "4/4 [==============================] - ETA: 0s - loss: 0.3255 - accuracy: 0.90 - 0s 8ms/step - loss: 0.3318 - accuracy: 0.9167 - val_loss: 0.3655 - val_accuracy: 0.9000\n",
      "Epoch 291/300\n",
      "4/4 [==============================] - 0s 7ms/step - loss: 0.3310 - accuracy: 0.9250 - val_loss: 0.3646 - val_accuracy: 0.9000\n",
      "Epoch 292/300\n",
      "4/4 [==============================] - 0s 7ms/step - loss: 0.3302 - accuracy: 0.9250 - val_loss: 0.3634 - val_accuracy: 0.9000\n",
      "Epoch 293/300\n",
      "4/4 [==============================] - 0s 8ms/step - loss: 0.3293 - accuracy: 0.9250 - val_loss: 0.3626 - val_accuracy: 0.9000\n",
      "Epoch 294/300\n",
      "4/4 [==============================] - 0s 7ms/step - loss: 0.3285 - accuracy: 0.9250 - val_loss: 0.3616 - val_accuracy: 0.9000\n",
      "Epoch 295/300\n",
      "4/4 [==============================] - 0s 7ms/step - loss: 0.3277 - accuracy: 0.9250 - val_loss: 0.3606 - val_accuracy: 0.9000\n",
      "Epoch 296/300\n",
      "4/4 [==============================] - 0s 8ms/step - loss: 0.3270 - accuracy: 0.9250 - val_loss: 0.3595 - val_accuracy: 0.9000\n",
      "Epoch 297/300\n",
      "4/4 [==============================] - 0s 7ms/step - loss: 0.3260 - accuracy: 0.9250 - val_loss: 0.3587 - val_accuracy: 0.9000\n",
      "Epoch 298/300\n",
      "4/4 [==============================] - 0s 7ms/step - loss: 0.3252 - accuracy: 0.9250 - val_loss: 0.3580 - val_accuracy: 0.9000\n",
      "Epoch 299/300\n",
      "4/4 [==============================] - 0s 7ms/step - loss: 0.3244 - accuracy: 0.9250 - val_loss: 0.3574 - val_accuracy: 0.9000\n",
      "Epoch 300/300\n",
      "4/4 [==============================] - 0s 8ms/step - loss: 0.3236 - accuracy: 0.9250 - val_loss: 0.3567 - val_accuracy: 0.9000\n"
     ]
    },
    {
     "data": {
      "text/plain": [
       "<tensorflow.python.keras.callbacks.History at 0x22b2cb07208>"
      ]
     },
     "execution_count": 157,
     "metadata": {},
     "output_type": "execute_result"
    }
   ],
   "source": [
    "model.fit(X_train, y_train, validation_data=(X_test, y_test), callbacks=[early_stop], epochs=300)"
   ]
  },
  {
   "cell_type": "code",
   "execution_count": 158,
   "metadata": {},
   "outputs": [],
   "source": [
    "metrics = pd.DataFrame(model.history.history)"
   ]
  },
  {
   "cell_type": "code",
   "execution_count": 159,
   "metadata": {},
   "outputs": [
    {
     "data": {
      "text/html": [
       "<div>\n",
       "<style scoped>\n",
       "    .dataframe tbody tr th:only-of-type {\n",
       "        vertical-align: middle;\n",
       "    }\n",
       "\n",
       "    .dataframe tbody tr th {\n",
       "        vertical-align: top;\n",
       "    }\n",
       "\n",
       "    .dataframe thead th {\n",
       "        text-align: right;\n",
       "    }\n",
       "</style>\n",
       "<table border=\"1\" class=\"dataframe\">\n",
       "  <thead>\n",
       "    <tr style=\"text-align: right;\">\n",
       "      <th></th>\n",
       "      <th>loss</th>\n",
       "      <th>accuracy</th>\n",
       "      <th>val_loss</th>\n",
       "      <th>val_accuracy</th>\n",
       "    </tr>\n",
       "  </thead>\n",
       "  <tbody>\n",
       "  </tbody>\n",
       "</table>\n",
       "</div>"
      ],
      "text/plain": [
       "Empty DataFrame\n",
       "Columns: [loss, accuracy, val_loss, val_accuracy]\n",
       "Index: []"
      ]
     },
     "execution_count": 159,
     "metadata": {},
     "output_type": "execute_result"
    }
   ],
   "source": [
    "metrics.head(0)"
   ]
  },
  {
   "cell_type": "code",
   "execution_count": 160,
   "metadata": {},
   "outputs": [
    {
     "data": {
      "text/plain": [
       "<matplotlib.axes._subplots.AxesSubplot at 0x22b2ef78108>"
      ]
     },
     "execution_count": 160,
     "metadata": {},
     "output_type": "execute_result"
    },
    {
     "data": {
      "image/png": "[encoded data removed]",
      "text/plain": [
       "<Figure size 432x288 with 1 Axes>"
      ]
     },
     "metadata": {
      "needs_background": "light"
     },
     "output_type": "display_data"
    }
   ],
   "source": [
    "metrics[['loss', 'val_loss']].plot()"
   ]
  },
  {
   "cell_type": "code",
   "execution_count": 161,
   "metadata": {},
   "outputs": [
    {
     "data": {
      "text/plain": [
       "<matplotlib.axes._subplots.AxesSubplot at 0x22b33379bc8>"
      ]
     },
     "execution_count": 161,
     "metadata": {},
     "output_type": "execute_result"
    },
    {
     "data": {
      "image/png": "[encoded data removed]",
      "text/plain": [
       "<Figure size 432x288 with 1 Axes>"
      ]
     },
     "metadata": {
      "needs_background": "light"
     },
     "output_type": "display_data"
    }
   ],
   "source": [
    "metrics[['accuracy', 'val_accuracy']].plot()"
   ]
  },
  {
   "cell_type": "code",
   "execution_count": 162,
   "metadata": {},
   "outputs": [],
   "source": [
    "predictions = model.predict_classes(X_test)"
   ]
  },
  {
   "cell_type": "code",
   "execution_count": 163,
   "metadata": {},
   "outputs": [
    {
     "data": {
      "text/plain": [
       "array([0, 0, 0, 2, 2, 2, 2, 1, 2, 0, 2, 0, 0, 2, 2, 1, 1, 1, 0, 1, 1, 0,\n",
       "       1, 1, 1, 1, 1, 2, 0, 0], dtype=int64)"
      ]
     },
     "execution_count": 163,
     "metadata": {},
     "output_type": "execute_result"
    }
   ],
   "source": [
    "predictions"
   ]
  },
  {
   "cell_type": "code",
   "execution_count": 164,
   "metadata": {},
   "outputs": [
    {
     "data": {
      "text/plain": [
       "array([[1, 0, 0],\n",
       "       [1, 0, 0],\n",
       "       [1, 0, 0],\n",
       "       [0, 0, 1],\n",
       "       [0, 1, 0],\n",
       "       [0, 0, 1],\n",
       "       [0, 1, 0],\n",
       "       [0, 1, 0],\n",
       "       [0, 0, 1],\n",
       "       [1, 0, 0],\n",
       "       [0, 0, 1],\n",
       "       [1, 0, 0],\n",
       "       [1, 0, 0],\n",
       "       [0, 0, 1],\n",
       "       [0, 0, 1],\n",
       "       [0, 1, 0],\n",
       "       [0, 1, 0],\n",
       "       [0, 1, 0],\n",
       "       [1, 0, 0],\n",
       "       [0, 0, 1],\n",
       "       [0, 1, 0],\n",
       "       [1, 0, 0],\n",
       "       [0, 1, 0],\n",
       "       [0, 1, 0],\n",
       "       [0, 1, 0],\n",
       "       [0, 1, 0],\n",
       "       [0, 1, 0],\n",
       "       [0, 0, 1],\n",
       "       [1, 0, 0],\n",
       "       [1, 0, 0]])"
      ]
     },
     "execution_count": 164,
     "metadata": {},
     "output_type": "execute_result"
    }
   ],
   "source": [
    "y_test"
   ]
  },
  {
   "cell_type": "code",
   "execution_count": 165,
   "metadata": {},
   "outputs": [
    {
     "data": {
      "text/html": [
       "<div>\n",
       "<style scoped>\n",
       "    .dataframe tbody tr th:only-of-type {\n",
       "        vertical-align: middle;\n",
       "    }\n",
       "\n",
       "    .dataframe tbody tr th {\n",
       "        vertical-align: top;\n",
       "    }\n",
       "\n",
       "    .dataframe thead th {\n",
       "        text-align: right;\n",
       "    }\n",
       "</style>\n",
       "<table border=\"1\" class=\"dataframe\">\n",
       "  <thead>\n",
       "    <tr style=\"text-align: right;\">\n",
       "      <th></th>\n",
       "      <th>sepal_length</th>\n",
       "      <th>sepal_width</th>\n",
       "      <th>petal_length</th>\n",
       "      <th>petal_width</th>\n",
       "      <th>species</th>\n",
       "    </tr>\n",
       "  </thead>\n",
       "  <tbody>\n",
       "    <tr>\n",
       "      <th>0</th>\n",
       "      <td>5.1</td>\n",
       "      <td>3.5</td>\n",
       "      <td>1.4</td>\n",
       "      <td>0.2</td>\n",
       "      <td>setosa</td>\n",
       "    </tr>\n",
       "  </tbody>\n",
       "</table>\n",
       "</div>"
      ],
      "text/plain": [
       "   sepal_length  sepal_width  petal_length  petal_width species\n",
       "0           5.1          3.5           1.4          0.2  setosa"
      ]
     },
     "execution_count": 165,
     "metadata": {},
     "output_type": "execute_result"
    }
   ],
   "source": [
    "df.head(1)"
   ]
  },
  {
   "cell_type": "code",
   "execution_count": 166,
   "metadata": {},
   "outputs": [],
   "source": [
    "flower_example = {'sepal_length' : 5.1,\n",
    "                 'sepal_width': 3.5,\n",
    "                 'petal_length' : 1.4,\n",
    "                 'petal_width' : 0.2}"
   ]
  },
  {
   "cell_type": "code",
   "execution_count": 167,
   "metadata": {},
   "outputs": [
    {
     "data": {
      "text/plain": [
       "array(['setosa', 'versicolor', 'virginica'], dtype='<U10')"
      ]
     },
     "execution_count": 167,
     "metadata": {},
     "output_type": "execute_result"
    }
   ],
   "source": [
    "encoder.classes_"
   ]
  },
  {
   "cell_type": "code",
   "execution_count": 168,
   "metadata": {},
   "outputs": [],
   "source": [
    "import joblib"
   ]
  },
  {
   "cell_type": "code",
   "execution_count": 169,
   "metadata": {},
   "outputs": [
    {
     "data": {
      "text/plain": [
       "['iris_scaler.pkl']"
      ]
     },
     "execution_count": 169,
     "metadata": {},
     "output_type": "execute_result"
    }
   ],
   "source": [
    "joblib.dump(scaler, 'iris_scaler.pkl')"
   ]
  },
  {
   "cell_type": "code",
   "execution_count": 170,
   "metadata": {},
   "outputs": [],
   "source": [
    "from tensorflow.keras.models import load_model"
   ]
  },
  {
   "cell_type": "code",
   "execution_count": 171,
   "metadata": {},
   "outputs": [],
   "source": [
    "model.save('iris_flower_model.h5')"
   ]
  },
  {
   "cell_type": "code",
   "execution_count": 172,
   "metadata": {},
   "outputs": [],
   "source": [
    "flower_model = load_model('iris_flower_model.h5')\n",
    "flower_scaler = joblib.load('iris_scaler.pkl')"
   ]
  },
  {
   "cell_type": "code",
   "execution_count": 173,
   "metadata": {},
   "outputs": [],
   "source": [
    "def return_prediction(model, scaler, sample_json):\n",
    "    s_len = sample_json['sepal_length']\n",
    "    s_wid = sample_json['sepal_width']\n",
    "    p_len = sample_json['petal_length']\n",
    "    p_wid = sample_json['petal_width']\n",
    "    \n",
    "    flower = [[s_len, s_wid, p_len, p_wid]]\n",
    "    \n",
    "    flower = scaler.transform(flower)\n",
    "    \n",
    "    classes = np.array(['setosa', 'versicolor', 'virginica'])\n",
    "    \n",
    "    class_ind = model.predict_classes(flower)\n",
    "    \n",
    "    return classes[class_ind][0]"
   ]
  },
  {
   "cell_type": "code",
   "execution_count": 174,
   "metadata": {},
   "outputs": [
    {
     "data": {
      "text/plain": [
       "'setosa'"
      ]
     },
     "execution_count": 174,
     "metadata": {},
     "output_type": "execute_result"
    }
   ],
   "source": [
    "return_prediction(flower_model, flower_scaler, flower_example)"
   ]
  },
  {
   "cell_type": "code",
   "execution_count": 175,
   "metadata": {},
   "outputs": [
    {
     "data": {
      "text/html": [
       "<div>\n",
       "<style scoped>\n",
       "    .dataframe tbody tr th:only-of-type {\n",
       "        vertical-align: middle;\n",
       "    }\n",
       "\n",
       "    .dataframe tbody tr th {\n",
       "        vertical-align: top;\n",
       "    }\n",
       "\n",
       "    .dataframe thead th {\n",
       "        text-align: right;\n",
       "    }\n",
       "</style>\n",
       "<table border=\"1\" class=\"dataframe\">\n",
       "  <thead>\n",
       "    <tr style=\"text-align: right;\">\n",
       "      <th></th>\n",
       "      <th>sepal_length</th>\n",
       "      <th>sepal_width</th>\n",
       "      <th>petal_length</th>\n",
       "      <th>petal_width</th>\n",
       "      <th>species</th>\n",
       "    </tr>\n",
       "  </thead>\n",
       "  <tbody>\n",
       "    <tr>\n",
       "      <th>0</th>\n",
       "      <td>5.1</td>\n",
       "      <td>3.5</td>\n",
       "      <td>1.4</td>\n",
       "      <td>0.2</td>\n",
       "      <td>setosa</td>\n",
       "    </tr>\n",
       "  </tbody>\n",
       "</table>\n",
       "</div>"
      ],
      "text/plain": [
       "   sepal_length  sepal_width  petal_length  petal_width species\n",
       "0           5.1          3.5           1.4          0.2  setosa"
      ]
     },
     "execution_count": 175,
     "metadata": {},
     "output_type": "execute_result"
    }
   ],
   "source": [
    "df.head(1)"
   ]
  },
  {
   "cell_type": "code",
   "execution_count": null,
   "metadata": {},
   "outputs": [],
   "source": []
  },
  {
   "cell_type": "code",
   "execution_count": 176,
   "metadata": {},
   "outputs": [],
   "source": [
    "sample_flower = df.drop('species', axis=1).iloc[0]"
   ]
  },
  {
   "cell_type": "code",
   "execution_count": 177,
   "metadata": {},
   "outputs": [
    {
     "data": {
      "text/plain": [
       "sepal_length    5.1\n",
       "sepal_width     3.5\n",
       "petal_length    1.4\n",
       "petal_width     0.2\n",
       "Name: 0, dtype: float64"
      ]
     },
     "execution_count": 177,
     "metadata": {},
     "output_type": "execute_result"
    }
   ],
   "source": [
    "sample_flower"
   ]
  },
  {
   "cell_type": "code",
   "execution_count": 178,
   "metadata": {},
   "outputs": [],
   "source": [
    "sample_flower = scaler.transform(sample_flower.values.reshape(-1, 4))"
   ]
  },
  {
   "cell_type": "code",
   "execution_count": 179,
   "metadata": {},
   "outputs": [],
   "source": [
    "pred = model.predict_classes(sample_flower)[0]"
   ]
  },
  {
   "cell_type": "code",
   "execution_count": 180,
   "metadata": {},
   "outputs": [
    {
     "data": {
      "text/plain": [
       "'setosa'"
      ]
     },
     "execution_count": 180,
     "metadata": {},
     "output_type": "execute_result"
    }
   ],
   "source": [
    "encoder.classes_[pred]"
   ]
  },
  {
   "cell_type": "code",
   "execution_count": 181,
   "metadata": {},
   "outputs": [
    {
     "data": {
      "text/plain": [
       "array([[0.9788792 , 0.01589416, 0.00522665]], dtype=float32)"
      ]
     },
     "execution_count": 181,
     "metadata": {},
     "output_type": "execute_result"
    }
   ],
   "source": [
    "model.predict(sample_flower)"
   ]
  },
  {
   "cell_type": "markdown",
   "metadata": {},
   "source": [
    "# The sum of the probabilities equals 1\n",
    "\n",
    "## using activation='softmax', in last neuron layer\n",
    "## and loss 'categorical_crossentropy'"
   ]
  },
  {
   "cell_type": "code",
   "execution_count": 183,
   "metadata": {},
   "outputs": [
    {
     "data": {
      "text/plain": [
       "1.0"
      ]
     },
     "execution_count": 183,
     "metadata": {},
     "output_type": "execute_result"
    }
   ],
   "source": [
    "model.predict(sample_flower)[0].sum()"
   ]
  },
  {
   "cell_type": "markdown",
   "metadata": {},
   "source": [
    "# 80% probability of sample_flower being setosa"
   ]
  },
  {
   "cell_type": "code",
   "execution_count": 188,
   "metadata": {},
   "outputs": [
    {
     "data": {
      "text/plain": [
       "array([[ True, False, False]])"
      ]
     },
     "execution_count": 188,
     "metadata": {},
     "output_type": "execute_result"
    }
   ],
   "source": [
    "model.predict(sample_flower) > 0.8"
   ]
  },
  {
   "cell_type": "code",
   "execution_count": 189,
   "metadata": {},
   "outputs": [
    {
     "data": {
      "text/plain": [
       "array(['setosa', 'versicolor', 'virginica'], dtype='<U10')"
      ]
     },
     "execution_count": 189,
     "metadata": {},
     "output_type": "execute_result"
    }
   ],
   "source": [
    "encoder.classes_"
   ]
  }
 ],
 "metadata": {
  "kernelspec": {
   "display_name": "Python 3",
   "language": "python",
   "name": "python3"
  },
  "language_info": {
   "codemirror_mode": {
    "name": "ipython",
    "version": 3
   },
   "file_extension": ".py",
   "mimetype": "text/x-python",
   "name": "python",
   "nbconvert_exporter": "python",
   "pygments_lexer": "ipython3",
   "version": "3.7.6"
  }
 },
 "nbformat": 4,
 "nbformat_minor": 4
}
